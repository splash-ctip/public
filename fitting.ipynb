{
 "cells": [
  {
   "cell_type": "code",
   "execution_count": null,
   "id": "3d83bd2f-abb3-42e6-b396-1e1710b3ca44",
   "metadata": {},
   "outputs": [],
   "source": [
    "# Import Libraries\n",
    "import numpy as np\n",
    "import pandas as pd\n",
    "import matplotlib\n",
    "import matplotlib.pyplot as plt\n",
    "import scipy.optimize as opt\n",
    "from ipywidgets import interact, FloatSlider\n",
    "from IPython.display import clear_output\n",
    "from testings import *\n",
    "%matplotlib inline"
   ]
  },
  {
   "cell_type": "markdown",
   "id": "2396c9b6-4427-41b2-8181-f34e8c8db1c5",
   "metadata": {},
   "source": [
    "# Curve Fitting\n",
    "Curve fitting with python is a great way to test the agreement between experimental results and theoretical physics equations. We will go through the details of curve fitting in the form of three examples. "
   ]
  },
  {
   "cell_type": "markdown",
   "id": "5aa16991-a03c-49e0-a723-d55f85ecb90f",
   "metadata": {},
   "source": [
    "## Linear Fit\n",
    "In a mass-spring system, Hooke's law, $F = -kx$, tells us the force on the mass is proportional to its displacement from the equilibrium position at any given time. We will verify (or disapprove?) this with the results of an actual experiment. "
   ]
  },
  {
   "cell_type": "code",
   "execution_count": null,
   "id": "d9db3ac2-66ea-4f01-b34b-fc34c08e4cf6",
   "metadata": {},
   "outputs": [],
   "source": [
    "# Read dataset\n",
    "exp1 = pd.read_csv(\"exp1.csv\", names=[\"T(s)\", \"F(N)\", \"x(m)\"], skiprows=1)\n",
    "exp1 = exp1[(exp1[\"T(s)\"] > 5.1) & (exp1[\"T(s)\"] < 5.8)]\n",
    "exp1"
   ]
  },
  {
   "cell_type": "code",
   "execution_count": null,
   "id": "d7d3c060-35d2-424e-bc75-3da4f726d600",
   "metadata": {},
   "outputs": [],
   "source": [
    "# Extracting data\n",
    "f1 = exp1[\"F(N)\"]\n",
    "x1 = exp1[\"x(m)\"]"
   ]
  },
  {
   "cell_type": "markdown",
   "id": "29fc34bd-aca8-4d30-b759-f398106b04a7",
   "metadata": {},
   "source": [
    "Now we fit the force and position data to a linear curve. "
   ]
  },
  {
   "cell_type": "code",
   "execution_count": null,
   "id": "8505f2b2-949d-4e5b-a680-ee257132a877",
   "metadata": {},
   "outputs": [],
   "source": [
    "def linear(x, k, f0):\n",
    "    \"\"\"\n",
    "    A linear model. \n",
    "    Parameter:\n",
    "    x: Displacement\n",
    "    k: Proportionality constant\n",
    "    f0: Y-axis intercept at x = 0\n",
    "    Returns:\n",
    "    F: The force linearly proportional to x\n",
    "    \"\"\"\n",
    "    # Question 1\n",
    "    ..."
   ]
  },
  {
   "cell_type": "code",
   "execution_count": null,
   "id": "0f169c11-a314-4832-93c9-f5004143330b",
   "metadata": {},
   "outputs": [],
   "source": [
    "# Question 2\n",
    "opt1, cov1 = ..."
   ]
  },
  {
   "cell_type": "code",
   "execution_count": null,
   "id": "d871d418-551f-437c-bea1-109d5ae14cda",
   "metadata": {},
   "outputs": [],
   "source": [
    "print(f\"Parameters: {list(opt1)}\")\n",
    "print(f\"Uncertainties: {list(np.diag(cov1))}\")"
   ]
  },
  {
   "cell_type": "markdown",
   "id": "989ff0c3-f504-4d75-ba9f-ad1319196717",
   "metadata": {},
   "source": [
    "Run the next cell to plot the data."
   ]
  },
  {
   "cell_type": "code",
   "execution_count": null,
   "id": "436d9454-8087-478f-8c93-651d3ac340d9",
   "metadata": {},
   "outputs": [],
   "source": [
    "plt.scatter(x1, f1, color=\"blue\", label=\"data\")\n",
    "plt.plot(x1, linear(x1, *opt1), color=\"red\", label=\"fit\")\n",
    "plt.xlabel(\"Position (m)\")\n",
    "plt.ylabel(\"Force (N)\")\n",
    "plt.title(\"Hooke's Law Experiment\")\n",
    "plt.legend()\n",
    "plt.show()"
   ]
  },
  {
   "cell_type": "markdown",
   "id": "f6c9398c-e391-471d-a9ed-296b3ca29f69",
   "metadata": {},
   "source": [
    "## Fitting to a sine curve\n",
    "We are able to fit data points to any numerical function with Scipy. In the next section, we will try to fit the actual time evolution of a spring-mass system with a simple harmonic model. "
   ]
  },
  {
   "cell_type": "code",
   "execution_count": null,
   "id": "bcb7b4d7-924f-4771-ac52-1d63de9f58eb",
   "metadata": {},
   "outputs": [],
   "source": [
    "# Read dataset\n",
    "exp2 = pd.read_csv(\"exp2.csv\", names=[\"T(s)\", \"F(N)\"], skiprows=1)\n",
    "exp2 = exp2[(exp2[\"T(s)\"] > 6) & (exp2[\"T(s)\"] < 8)]\n",
    "exp2[[\"T(s)\"]] = exp2[[\"T(s)\"]] - 6\n",
    "exp2"
   ]
  },
  {
   "cell_type": "code",
   "execution_count": null,
   "id": "d1945d68-4a1b-44b2-9db7-82b06d0f1dd6",
   "metadata": {},
   "outputs": [],
   "source": [
    "# Extracting data\n",
    "f2 = exp2[\"F(N)\"]\n",
    "t2 = exp2[\"T(s)\"]"
   ]
  },
  {
   "cell_type": "markdown",
   "id": "08291d51-ac56-4187-b6bb-b7a5d1418dd9",
   "metadata": {},
   "source": [
    "The solution to the acceleration and the force of the sprng-mass system is a sinusoidal function, similar to the position but differ by a sign and a factor. "
   ]
  },
  {
   "cell_type": "code",
   "execution_count": null,
   "id": "d202c3c1-3779-44b5-a3e6-2b147671f1d0",
   "metadata": {},
   "outputs": [],
   "source": [
    "def acceleration(t, A, w, phi):\n",
    "    \"\"\"\n",
    "    The acceleration of a Simple Harmonic Oscillator. \n",
    "    Parameter:\n",
    "    t: Time\n",
    "    A: Amplitude\n",
    "    w: Angular frequency\n",
    "    phi: Constant phase difference\n",
    "    Returns:\n",
    "    a: The acceleration of the oscillator at time t. \n",
    "    \"\"\"\n",
    "    # Question 2\n",
    "    return A * (w**2) * np.sin(w * t + phi)"
   ]
  },
  {
   "cell_type": "code",
   "execution_count": null,
   "id": "bf549160-1857-46cf-94e3-b8e533c5d133",
   "metadata": {},
   "outputs": [],
   "source": [
    "# Question 2\n",
    "opt2, cov2 = opt.curve_fit(acceleration, t2, f2, p0=[0.1, -10, 7.5])"
   ]
  },
  {
   "cell_type": "code",
   "execution_count": null,
   "id": "22c0069e-b4b7-4d99-bf02-184d2037a4b4",
   "metadata": {},
   "outputs": [],
   "source": [
    "print(f\"Parameters: {list(opt2)}\")\n",
    "print(f\"Uncertainties: {list(np.diag(cov2))}\")"
   ]
  },
  {
   "cell_type": "markdown",
   "id": "1e395618-b3ee-4558-a312-5b29e24e9e2c",
   "metadata": {},
   "source": [
    "Run the next cell to plot the data."
   ]
  },
  {
   "cell_type": "code",
   "execution_count": null,
   "id": "13a0f4fe-bac0-49a6-a1d4-2bc762bc7c85",
   "metadata": {},
   "outputs": [],
   "source": [
    "plt.scatter(t2, f2, color=\"blue\", label=\"data\")\n",
    "plt.plot(t2, acceleration(t2, *opt2), color=\"red\", label=\"fit\")\n",
    "plt.xlabel(\"Time (s)\")\n",
    "plt.ylabel(\"Force (N)\")\n",
    "plt.title(\"Hooke's Law Experiment 2\")\n",
    "plt.legend()\n",
    "plt.show()"
   ]
  }
 ],
 "metadata": {
  "kernelspec": {
   "display_name": "Python 3 (ipykernel)",
   "language": "python",
   "name": "python3"
  },
  "language_info": {
   "codemirror_mode": {
    "name": "ipython",
    "version": 3
   },
   "file_extension": ".py",
   "mimetype": "text/x-python",
   "name": "python",
   "nbconvert_exporter": "python",
   "pygments_lexer": "ipython3",
   "version": "3.9.15"
  }
 },
 "nbformat": 4,
 "nbformat_minor": 5
}
