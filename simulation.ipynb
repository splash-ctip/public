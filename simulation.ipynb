{
 "cells": [
  {
   "cell_type": "code",
   "execution_count": null,
   "id": "e1fc7b50-3081-48d7-8611-e39f710e0ab9",
   "metadata": {},
   "outputs": [],
   "source": [
    "# Import Libraries\n",
    "import numpy as np\n",
    "import matplotlib\n",
    "import matplotlib.pyplot as plt\n",
    "import matplotlib.animation as animation\n",
    "from ipywidgets import interact, FloatSlider\n",
    "from IPython.display import clear_output\n",
    "from testings import *\n",
    "%matplotlib inline"
   ]
  },
  {
   "cell_type": "markdown",
   "id": "c090e5d6-9a7f-42b6-ab50-723e22767a62",
   "metadata": {},
   "source": [
    "# Simple Harmonic Motion\n",
    "Simple Harmonic Motion is one of the most common physical relations, appearing in every sub-field of physics: Mechanics, Electromagnetism, Quantum mechanics, etc. The goal of this exercise is to simulate physical systems that undergo simple harmonic motion, and give ourselves a clear visualization of how such systems behave over time. "
   ]
  },
  {
   "cell_type": "markdown",
   "id": "f42a10e0-b7a1-4bd5-b232-be2444ed5618",
   "metadata": {},
   "source": [
    "## Mass on a Spring\n",
    "A mass-spring system is the first simple harmonic oscillator introduced in most introductory mechanics courses, where a spring attached to the wall is connected to a mass. "
   ]
  },
  {
   "cell_type": "markdown",
   "id": "38bde042-524a-4da2-bb58-d386cdfc2172",
   "metadata": {},
   "source": [
    "https://s3-us-west-2.amazonaws.com/courses-images/wp-content/uploads/sites/2952/2018/01/31200835/CNX_UPhysics_15_01_MassSpring.jpg"
   ]
  },
  {
   "cell_type": "markdown",
   "id": "3f519f0c-9de7-4667-8dfa-fa3f9db7b415",
   "metadata": {},
   "source": [
    "Such a simple harmonic oscillator has a closed-form solution, meaning we can write an equation of the position as a function of time. Complete the closed-form solution in the function below. \n",
    "\\\n",
    "\\\n",
    "*Hint: Feel free to look up the solution on the internet! In fact, it is a common practice, and encouraged, to look up functions and ideas when people write computer programs!*"
   ]
  },
  {
   "cell_type": "code",
   "execution_count": null,
   "id": "e867da24-3fa4-4e87-8a0b-5008e335bfd8",
   "metadata": {},
   "outputs": [],
   "source": [
    "def shm_position(t, A, k, m, phi):\n",
    "    \"\"\"\n",
    "    Returns the position of a mass-spring simple harmonic oscillator at a given time. \n",
    "    \n",
    "    Parameters:\n",
    "    t: Time\n",
    "    A: Amplitude\n",
    "    k: Spring constant\n",
    "    m: Mass\n",
    "    phi: Initial phase shift\n",
    "    \n",
    "    Output: x\n",
    "    x: Position of the oscillator\n",
    "    \"\"\"\n",
    "    # Question 1\n",
    "    ..."
   ]
  },
  {
   "cell_type": "markdown",
   "id": "03b86cf4-d353-408f-8940-86b57d083e39",
   "metadata": {},
   "source": [
    "Run the next cell to test your code! "
   ]
  },
  {
   "cell_type": "code",
   "execution_count": null,
   "id": "20fe4594-ea08-4eb8-a636-90a9e4d63d0e",
   "metadata": {},
   "outputs": [],
   "source": [
    "# Test for Question 1\n",
    "# Just run it!\n",
    "test1(shm_position)"
   ]
  },
  {
   "cell_type": "markdown",
   "id": "b7eed694-b488-48c3-8da3-90d0a033c807",
   "metadata": {},
   "source": [
    "With a function x(t) that describes the position of the harmonic oscillator over time, we can simulate the dynamics of a natural spring-mass system. Suppose the system has the following parameters: \\\n",
    "Spring Constant: 10 N/m \\\n",
    "Mass: 1.5 kg \\\n",
    "Amplitude: 1 m \\\n",
    "Initial Phase Shift: $\\pi/2$ radians \\\n",
    "Time: 10000 entries equally spaced from 0 to 20 seconds"
   ]
  },
  {
   "cell_type": "code",
   "execution_count": null,
   "id": "41958df3-e3f2-4b05-9859-0ce3eacbdac6",
   "metadata": {},
   "outputs": [],
   "source": [
    "# Question 2\n",
    "t1 = ...\n",
    "x1 = ..."
   ]
  },
  {
   "cell_type": "code",
   "execution_count": null,
   "id": "6bd10eb0-0941-4ae9-8e5e-a81f8fc3c1a5",
   "metadata": {},
   "outputs": [],
   "source": [
    "# Test for Question 2\n",
    "test2(t1, x1)"
   ]
  },
  {
   "cell_type": "markdown",
   "id": "4302ae93-ace3-4d05-89e6-01f30b55103c",
   "metadata": {},
   "source": [
    "Now let's plot our data! \\\n",
    "Plot a position versus time graph in the next cell. "
   ]
  },
  {
   "cell_type": "code",
   "execution_count": null,
   "id": "392c4a44-7ec1-48e8-8d79-7aee9b8ab7ae",
   "metadata": {},
   "outputs": [],
   "source": [
    "fig = plt.figure()\n",
    "fig.set_size_inches(6, 6)\n",
    "ax = fig.add_subplot(1, 1, 1)\n",
    "\n",
    "ax.set_title(\"Spring-Mass Oscillator, Position vs Time\")\n",
    "ax.set_xlim(-0.5, 20.5)\n",
    "ax.set_ylim(-1.1, 1.1)\n",
    "ax.set_xlabel(\"Time (s)\")\n",
    "ax.set_ylabel(\"Position (m)\")\n",
    "\n",
    "ax.vlines(x=0, ymin=-1, ymax=1, color='black', linestyle=(0, (1, 10)))\n",
    "ax.hlines(y=0, xmin=0, xmax=20, color='black', linestyle=(0, (1, 10)))\n",
    "\n",
    "# Question 3\n",
    "...\n",
    "\n",
    "plt.show()"
   ]
  },
  {
   "cell_type": "markdown",
   "id": "ac938f9d-0d27-4888-9214-28273fb46aba",
   "metadata": {},
   "source": [
    "Thanks to the computational capabilities of Python, we can also generate a real-time version of the graph above. \\\n",
    "Run the following cell to view a real-time evolution of the spring-mass oscillator. "
   ]
  },
  {
   "cell_type": "code",
   "execution_count": null,
   "id": "d105bebe-f8cc-4773-b849-46765e2b2615",
   "metadata": {},
   "outputs": [],
   "source": [
    "def live_plot(data):\n",
    "    clear_output(wait=True)\n",
    "    fig = plt.figure()\n",
    "    fig.set_size_inches(6, 6)\n",
    "    \n",
    "    ax = fig.add_subplot(1, 1, 1)\n",
    "    ax.set_title(\"Spring-Mass Oscillator, Position vs Time\")\n",
    "    ax.set_xlim(-0.5, 20.5)\n",
    "    ax.set_ylim(-1.1, 1.1)\n",
    "    ax.set_xlabel(\"Time (s)\")\n",
    "    ax.set_ylabel(\"Position (m)\")\n",
    "    \n",
    "    ax.vlines(x=0, ymin=-1, ymax=1, color='black', linestyle=(0, (1, 10)))\n",
    "    ax.hlines(y=0, xmin=0, xmax=20, color='black', linestyle=(0, (1, 10)))\n",
    "\n",
    "    ax.plot(data[0], data[1], color=\"blue\")\n",
    "    plt.show()\n",
    "\n",
    "data = [[], []]\n",
    "for i in np.arange(len(t1) // 32):\n",
    "    data[0].extend(t1[i * 32 - 32:i * 32])\n",
    "    data[1].extend(x1[i * 32 - 32:i * 32])\n",
    "    live_plot(data)"
   ]
  },
  {
   "cell_type": "markdown",
   "id": "9c672f88-58f8-4ba1-80e1-d883deffe2b3",
   "metadata": {},
   "source": [
    "## Numerical Integration\n",
    "Almost all the equations in physics do not go beyond the second derivative ([Why?](https://physics.stackexchange.com/questions/685650/why-do-so-many-laws-in-physics-operate-on-the-second-derivative)). \\\n",
    "So if we have an equation describing a physical system, for example, $F = ma = m \\frac{d^2x}{dt^2}$; \\\n",
    "And we are given an initial condition $x_o$, $v_o$; \\\n",
    "We can write a Python program that calculates the evolution of our system numerically, similar to the [Rectangular Integration](https://math.libretexts.org/Bookshelves/Calculus/Map%3A_Calculus__Early_Transcendentals_(Stewart)/05%3A_Integrals/5.01%3A_Areas_and_Distances#:~:text=We%20can%20use%20this%20regular%20partition%20as%20the%20basis%20of%20a%20method%20for%20estimating%20the%20area%20under%20the%20curve.%20We%20next%20examine%20two%20methods%3A%20the%20left%2Dendpoint%20approximation%20and%20the%20right%2Dendpoint%20approximation.) method you may have encountered in Calculus. That is: \\\n",
    "$$a_o = \\frac{F_o}{m}$$\n",
    "$$v_f = v_o + a_o \\ dt$$\n",
    "$$x_f = x_o + v_o \\ dt$$\n",
    "http://spiff.rit.edu/classes/phys317/lectures/num_integ_c.gif \\\n",
    "We shall model the same spring-mass system with the numerical integration method, and compare the results of the two different methods. \\\n",
    "In the next cell, write a function that takes in the initial position $x_o$ and velocity $v_o$, and an infinitesimal time $dt$, along with the other parameters of the spring, and return the final position and velocity after the time $dt$ has passed. "
   ]
  },
  {
   "cell_type": "code",
   "execution_count": null,
   "id": "a5df9e7f-efcb-4945-a798-7a6027184517",
   "metadata": {},
   "outputs": [],
   "source": [
    "def oscillator(k, m, x0, v0, dt):\n",
    "    \"\"\"\n",
    "    Returns the position of a mass-spring simple harmonic oscillator at the next timestamp. \n",
    "    \n",
    "    Parameters:\n",
    "    k: Spring constant\n",
    "    m: Mass\n",
    "    x0: Initial position\n",
    "    v0: Initial velocity\n",
    "    dt: Infinitesimal time\n",
    "    \n",
    "    Output: (xf, vf)\n",
    "    xf: Position of the oscillator after time dt\n",
    "    vf: Velocity of the oscillator after time dt\n",
    "    \"\"\"\n",
    "    # Question 4\n",
    "    ..."
   ]
  },
  {
   "cell_type": "code",
   "execution_count": null,
   "id": "ee301b66-7b38-4fb3-9d56-02580c5faa22",
   "metadata": {},
   "outputs": [],
   "source": [
    "# Test for Question 4\n",
    "test4(oscillator)"
   ]
  },
  {
   "cell_type": "markdown",
   "id": "c2eb50c6-5e9f-478b-a7e6-4b792056acb0",
   "metadata": {},
   "source": [
    "In the previous section, we have modeled a spring-mass system initial placed at 1m and is at rest when $t$=0. Use $dt$ = 0.002s, model the same system with the numerical integration method for 10000 timestamps. \\\n",
    "The spring parameters from the previous section are: \\\n",
    "Spring Constant: 10 N/m \\\n",
    "Mass: 1.5 kg"
   ]
  },
  {
   "cell_type": "code",
   "execution_count": null,
   "id": "74075de2-5204-4e37-bf6d-bd9de1ec2dd2",
   "metadata": {},
   "outputs": [],
   "source": [
    "# Question 5\n",
    "x2 = ...\n",
    "v2 = ...\n",
    "t2 = ...\n",
    "\n",
    "for i in np.arange(10000):\n",
    "    ..."
   ]
  },
  {
   "cell_type": "code",
   "execution_count": null,
   "id": "4c3a3f53-1b88-40b1-a222-72c7614189e7",
   "metadata": {},
   "outputs": [],
   "source": [
    "# Test for Question 5\n",
    "test5(x2, v2, t2)"
   ]
  },
  {
   "cell_type": "markdown",
   "id": "23c0e9dd-7b62-4c16-b9e2-07b38b74ca06",
   "metadata": {},
   "source": [
    "Generate a plot the results of our numerical integration. "
   ]
  },
  {
   "cell_type": "code",
   "execution_count": null,
   "id": "da8f839a-65aa-4abb-b9e8-0666df2d9e60",
   "metadata": {},
   "outputs": [],
   "source": [
    "fig = plt.figure()\n",
    "fig.set_size_inches(6, 6)\n",
    "ax = fig.add_subplot(1, 1, 1)\n",
    "\n",
    "ax.set_title(\"Spring-Mass Oscillator, Position vs Time\")\n",
    "ax.set_xlim(-0.5, 20.5)\n",
    "ax.set_ylim(-1.2, 1.2)\n",
    "ax.set_xlabel(\"Time (s)\")\n",
    "ax.set_ylabel(\"Position (m)\")\n",
    "\n",
    "ax.vlines(x=0, ymin=-1, ymax=1, color='black', linestyle=(0, (1, 10)))\n",
    "ax.hlines(y=0, xmin=0, xmax=20, color='black', linestyle=(0, (1, 10)))\n",
    "\n",
    "# Question 6\n",
    "...\n",
    "\n",
    "plt.show()"
   ]
  },
  {
   "cell_type": "markdown",
   "id": "6f2c9b1f-b19e-4c35-b3ee-a52d1d887ae8",
   "metadata": {},
   "source": [
    "If we graph the results of closed-form solution and the numerical integration on the same graph, we can indeed see some inconsistencies. Just like treating an integral as a finite sum, we will sacrafice some accuracy by modeling a physical system with numerical integration. We can limit these inconsistencies by using a smaller $dt$ value, though at the cost of computation speed. \\\n",
    "Still, the method of numerical integration is particularly useful, especially for some complicated relations that cannot be modeled with a closed-form solution. "
   ]
  },
  {
   "cell_type": "code",
   "execution_count": null,
   "id": "2d69e90f-6408-491e-b17b-4185b605f294",
   "metadata": {},
   "outputs": [],
   "source": [
    "fig = plt.figure()\n",
    "fig.set_size_inches(6, 6)\n",
    "ax = fig.add_subplot(1, 1, 1)\n",
    "\n",
    "ax.set_title(\"Spring-Mass Oscillator, Position vs Time\")\n",
    "ax.set_xlim(-0.5, 20.5)\n",
    "ax.set_ylim(-1.2, 1.2)\n",
    "ax.set_xlabel(\"Time (s)\")\n",
    "ax.set_ylabel(\"Position (m)\")\n",
    "\n",
    "ax.vlines(x=0, ymin=-1, ymax=1, color='black', linestyle=(0, (1, 10)))\n",
    "ax.hlines(y=0, xmin=0, xmax=20, color='black', linestyle=(0, (1, 10)))\n",
    "\n",
    "ax.plot(t1, x1, color=\"blue\", label=\"closed-form\")\n",
    "ax.plot(t2, x2, color=\"red\", label=\"numerical\", alpha=0.8)\n",
    "\n",
    "ax.legend()\n",
    "plt.show()"
   ]
  }
 ],
 "metadata": {
  "kernelspec": {
   "display_name": "Python 3 (ipykernel)",
   "language": "python",
   "name": "python3"
  },
  "language_info": {
   "codemirror_mode": {
    "name": "ipython",
    "version": 3
   },
   "file_extension": ".py",
   "mimetype": "text/x-python",
   "name": "python",
   "nbconvert_exporter": "python",
   "pygments_lexer": "ipython3",
   "version": "3.9.15"
  }
 },
 "nbformat": 4,
 "nbformat_minor": 5
}
